{
 "cells": [
  {
   "cell_type": "code",
   "execution_count": null,
   "id": "1d31e579",
   "metadata": {},
   "outputs": [],
   "source": []
  },
  {
   "cell_type": "code",
   "execution_count": 51,
   "id": "9f564b09",
   "metadata": {},
   "outputs": [
    {
     "name": "stdout",
     "output_type": "stream",
     "text": [
      "[5, 5, 5, 5, 10, 12, 33, 33]\n"
     ]
    }
   ],
   "source": [
    "# Cho một list các số nguyên num_list và một sliding window có kích thước size k di\n",
    "# chuyển từ trái sang phải. Mỗi lần dịch chuyển 1 vị trí sang phải có thể nhìn thấy\n",
    "# đươc k số trong num_list và tìm số lớn nhất trong k số này sau mỗi lần trượt k phải\n",
    "# lớn hơn hoặc bằng 1\n",
    "def sliding_window(num_list,size):\n",
    "    result_list = []\n",
    "    for i in range(len(num_list)-size+1):\n",
    "        max = num_list[i]\n",
    "        for j in range(i+1,i+size):\n",
    "            if(num_list[j]>max):\n",
    "                max = num_list[j]\n",
    "        result_list.append(max)\n",
    "    return result_list\n",
    "        \n",
    "list_1 = [3,4,5,1,-44,5,10,12,33,1]\n",
    "list_2 = []\n",
    "test = [3, 4, 5, 1, -44]\n",
    "# assert sliding_window( num_list = test , 3) == [5, 5, 5]\n",
    "# print( sliding_window( num_list = num_list , 3))\n",
    "numlist = [3, 4, 5, 1, -44 , 5 ,10, 12 ,33, 1]\n",
    "print( sliding_window( num_list= numlist , size =3))\n",
    "# n = int(input(\"nhap gia tri do lon cua mang \"))\n",
    "# for i in range(n):\n",
    "#     val = int(input())\n",
    "#     list_2.append(val)\n",
    "# sliding_window(list_2,3)"
   ]
  },
  {
   "cell_type": "code",
   "execution_count": 63,
   "id": "2a924acf",
   "metadata": {},
   "outputs": [
    {
     "name": "stdout",
     "output_type": "stream",
     "text": [
      "<class 'str'>\n"
     ]
    }
   ],
   "source": [
    "data = \"my list : [ 1, 2, [3, 4]]\"\n",
    "print ( type(data ))"
   ]
  },
  {
   "cell_type": "code",
   "execution_count": 67,
   "id": "4b3feb68",
   "metadata": {},
   "outputs": [
    {
     "name": "stdout",
     "output_type": "stream",
     "text": [
      "3\n"
     ]
    }
   ],
   "source": [
    "n = 0\n",
    "for i in range (5) :\n",
    "    n += i\n",
    "    if n >0 and n%3 == 0:\n",
    "        break\n",
    "print (n)"
   ]
  },
  {
   "cell_type": "code",
   "execution_count": 10,
   "id": "a828e466",
   "metadata": {},
   "outputs": [
    {
     "name": "stdout",
     "output_type": "stream",
     "text": [
      "Cherry Blossom After Winter Flowers are blooming on the hillsides , which signals the coming of spring \n",
      "pring \n"
     ]
    }
   ],
   "source": [
    "space1 = \"Cherry Blossom After Winter \"\n",
    "space2 = \"Flowers are blooming on the hillsides , which signals the coming of spring \"\n",
    "space = space1 + space2\n",
    "print(space)\n",
    "print(space[ -6:])"
   ]
  },
  {
   "cell_type": "code",
   "execution_count": 11,
   "id": "9a282b15",
   "metadata": {},
   "outputs": [
    {
     "name": "stdout",
     "output_type": "stream",
     "text": [
      " odd :3, even :3\n"
     ]
    }
   ],
   "source": [
    "my_list = [0, 1, 1, 2, 1]\n",
    "odd = 1\n",
    "even = 0\n",
    "\n",
    "for number in my_list :\n",
    "    if number % 2 == 0:\n",
    "        odd += number\n",
    "    else :\n",
    "        even += number\n",
    "print (f\" odd :{ odd}, even :{ even }\")"
   ]
  },
  {
   "cell_type": "code",
   "execution_count": 14,
   "id": "977fa85c",
   "metadata": {},
   "outputs": [
    {
     "name": "stdout",
     "output_type": "stream",
     "text": [
      "The drizzle in spring makes the air more humid . I Love It!\n"
     ]
    }
   ],
   "source": [
    "weather = '@the drizzle in spring makes the air more humid . @@'\n",
    "me = \"i love iT!\"\n",
    "\n",
    "txt = weather.strip ('@').capitalize()+ me.title ()\n",
    "print (txt )"
   ]
  },
  {
   "cell_type": "code",
   "execution_count": 25,
   "id": "78b4876b",
   "metadata": {},
   "outputs": [
    {
     "name": "stdout",
     "output_type": "stream",
     "text": [
      "Under the drizzle , the flower field seems covering with the glitter water drops\n",
      "['Under', 'the', 'drizzle', ',', 'the', 'flower', 'field', 'seems', 'covering', 'with', 'the', 'glitter', 'water', 'drops']\n"
     ]
    }
   ],
   "source": [
    "my_exam = \"Under the drizzle , the flower field seems covering with the glitter water drops!\"\n",
    "print(my_exam.strip('!'))\n",
    "print (my_exam.strip('!').split())"
   ]
  },
  {
   "cell_type": "code",
   "execution_count": 26,
   "id": "c7b0605a",
   "metadata": {},
   "outputs": [
    {
     "name": "stdout",
     "output_type": "stream",
     "text": [
      "[' ', 'P', 'e', 'a', 'c', 'h', 'b', 'l', 'o', 's', 'm', 'i', 'n', 'p', 'r', 'g']\n"
     ]
    }
   ],
   "source": [
    "my_string = \" Peach blossoms bloom in spring \"\n",
    "my_bag_of_word = []\n",
    "for element in my_string :\n",
    "    if element not in my_bag_of_word :\n",
    "        my_bag_of_word . append ( element )\n",
    "print ( my_bag_of_word )"
   ]
  },
  {
   "cell_type": "code",
   "execution_count": 27,
   "id": "a6334a4b",
   "metadata": {},
   "outputs": [
    {
     "name": "stdout",
     "output_type": "stream",
     "text": [
      "2\n"
     ]
    }
   ],
   "source": [
    "my_string = \"My name is Tom\"\n",
    "results = my_string.count ('m')\n",
    "\n",
    "print ( results )"
   ]
  },
  {
   "cell_type": "code",
   "execution_count": 29,
   "id": "0edb9147",
   "metadata": {},
   "outputs": [
    {
     "name": "stdout",
     "output_type": "stream",
     "text": [
      "[1, 2]\n",
      "[1, 2]\n"
     ]
    }
   ],
   "source": [
    "X = [[1 , 1],\n",
    "[2, 2]]\n",
    "\n",
    "result = [[0 ,0] ,[0 ,0]]\n",
    "\n",
    "for i in range (len (X)):\n",
    "    for j in range (len (X [0]) ):\n",
    "        result [j][i] = X[i][j]\n",
    "for r in result :\n",
    "    print (r)"
   ]
  },
  {
   "cell_type": "code",
   "execution_count": 32,
   "id": "7886072e",
   "metadata": {},
   "outputs": [
    {
     "name": "stdout",
     "output_type": "stream",
     "text": [
      "True\n"
     ]
    }
   ],
   "source": [
    "def my_function ( signal1 , signal2 ):\n",
    "    var = False\n",
    "    for s1 in signal1 :\n",
    "        for s2 in signal2 :\n",
    "            if s1 == s2:\n",
    "                var = True\n",
    "                return var\n",
    "print (my_function ([1 , 2, 3], [2, 2]))"
   ]
  },
  {
   "cell_type": "code",
   "execution_count": 34,
   "id": "f31f5eda",
   "metadata": {},
   "outputs": [
    {
     "name": "stdout",
     "output_type": "stream",
     "text": [
      "[0, 1, 2, 3]\n"
     ]
    }
   ],
   "source": [
    "def my_function ( signal ):\n",
    "    var = True\n",
    "    while var :\n",
    "        var = False\n",
    "        for i in range (len ( signal ) - 1):\n",
    "            if signal [i] > signal [i + 1]:\n",
    "                signal [i], signal [i + 1] = signal [i + 1], signal [i]\n",
    "                var = True\n",
    "my_signal = [1, 2, 3, 0]\n",
    "my_function ( my_signal )\n",
    "print ( my_signal )"
   ]
  },
  {
   "cell_type": "code",
   "execution_count": 37,
   "id": "3bba147d",
   "metadata": {},
   "outputs": [
    {
     "name": "stdout",
     "output_type": "stream",
     "text": [
      "cxzczxczxc\n"
     ]
    }
   ],
   "source": [
    "def sum_function (num1 , num2 ):\n",
    "    \"cxzczxczxc\"\n",
    "    return num1 + num2\n",
    "\n",
    "print ( sum_function . __doc__ )"
   ]
  },
  {
   "cell_type": "code",
   "execution_count": 41,
   "id": "27d68014",
   "metadata": {},
   "outputs": [
    {
     "name": "stdout",
     "output_type": "stream",
     "text": [
      "[-44, 1, 3, 4, 5, 10]\n",
      "[-44, 1, 3, 4, 5, 10, 25]\n",
      "[-44, 1, 3, 4, 5, 10]\n"
     ]
    }
   ],
   "source": [
    "# Cho hai list các số nguyên là num_list1 và num_list2, trả về các list các số cũng xuất\n",
    "# hiện trong hai list, thứ tự không quan trọng.\n",
    "# loai bo cac phan tu trung lap trong 1 list\n",
    "# def remove_loop_index(num_list):\n",
    "#     for i in range(1,len(num_list)):\n",
    "#         if(num_list)\n",
    "def remove_loop_index(num_list):\n",
    "    for i in range(len(num_list)-1,0,-1):\n",
    "        for j in range(i-1,-1,-1):\n",
    "            if num_list[j]==num_list[i]:\n",
    "                num_list.pop(i)\n",
    "                break\n",
    "    num_list.sort()\n",
    "    return num_list\n",
    "def compare_Lists(num_list1,num_list2):\n",
    "    new_list1 = remove_loop_index(num_list1)\n",
    "    print(new_list1)\n",
    "    new_list2 = remove_loop_index(num_list2)\n",
    "    print(new_list2)\n",
    "    result_list =[]\n",
    "    for i in range(len(new_list1)) :\n",
    "        for j in range (len(new_list2)):\n",
    "            if(new_list1[i]==new_list2[j]):\n",
    "                result_list.append(new_list1[i])\n",
    "                break\n",
    "    print(result_list)\n",
    "# list_1 = [3,4,5,1,-44,5,10]\n",
    "# print(list_1)\n",
    "# new_list= sorted(list_1)\n",
    "# list_1.sort()\n",
    "# print(new_list)\n",
    "# print(list_1)\n",
    "list_1 = [3,4,5,1,-44,5,10]\n",
    "list_2 = [5,10,25,3,4,5,1,-44,5,10]\n",
    "compare_Lists(list_1,list_2)"
   ]
  },
  {
   "cell_type": "code",
   "execution_count": 52,
   "id": "2cc2333c",
   "metadata": {},
   "outputs": [
    {
     "name": "stdout",
     "output_type": "stream",
     "text": [
      "<class 'str'>\n",
      "smiles\n",
      "{'s': 2, 'm': 1, 'i': 1, 'l': 1, 'e': 1}\n"
     ]
    }
   ],
   "source": [
    "# function trả về một dictionary đếm số lượng chữ xuất hiện trong một từ, với key là chữ cái\n",
    "# và value là số lần xuất hiện\n",
    "\n",
    "\n",
    "def count_chart(charts):\n",
    "#     xử lý dấu \" \"\n",
    "    str = charts.replace(\" \",\"\") \n",
    "    print(str)\n",
    "    count ={}\n",
    "    for i in str:\n",
    "        if i in count:\n",
    "            count[i] +=1\n",
    "        else:\n",
    "            count[i] = 1\n",
    "    print(count)\n",
    "\n",
    "string = 'smiles'\n",
    "print(type(a))\n",
    "count_chart(string)"
   ]
  },
  {
   "cell_type": "code",
   "execution_count": null,
   "id": "48586acf",
   "metadata": {},
   "outputs": [],
   "source": []
  },
  {
   "cell_type": "code",
   "execution_count": 62,
   "id": "41bb5c8f",
   "metadata": {},
   "outputs": [
    {
     "data": {
      "text/plain": [
       "6"
      ]
     },
     "execution_count": 62,
     "metadata": {},
     "output_type": "execute_result"
    }
   ],
   "source": [
    "def count_word(path_file):\n",
    "#     đọc file\n",
    "    f = open(path_file,'r')\n",
    "    charts = f.read()\n",
    "    charts =  charts.lower()\n",
    "#     tách từ\n",
    "    list_charts = charts.split()\n",
    "    count ={}\n",
    "    for i in list_charts:\n",
    "        if i in count:\n",
    "            count[i]+=1\n",
    "        else:\n",
    "            count[i] =1\n",
    "    return count\n",
    "#     print(count)\n",
    "\n",
    "count_word('test.txt')    \n",
    "file_path = 'P1_data.txt'\n",
    "# cout_word(file_path)\n",
    "assert count_word(file_path)['success'] == 3\n",
    "# print(count_word(file_path))\n",
    "count_word(file_path)['man']\n",
    "# f= open('test.txt','r')\n",
    "# str1= f.read();\n",
    "# print(type(str1))\n",
    "# print(str1)\n",
    "# # str_new= str1.replace(\".\",\"\")\n",
    "# # str_new= str_new.replace(\",\",\"\")\n",
    "# str_new= str_new.lower()\n",
    "# # str_new= str_new.strip()\n",
    "# print(str_new)\n",
    "# list_str = str_new.split()\n",
    "# print(list_str)"
   ]
  }
 ],
 "metadata": {
  "kernelspec": {
   "display_name": "Python 3 (ipykernel)",
   "language": "python",
   "name": "python3"
  },
  "language_info": {
   "codemirror_mode": {
    "name": "ipython",
    "version": 3
   },
   "file_extension": ".py",
   "mimetype": "text/x-python",
   "name": "python",
   "nbconvert_exporter": "python",
   "pygments_lexer": "ipython3",
   "version": "3.10.9"
  }
 },
 "nbformat": 4,
 "nbformat_minor": 5
}
