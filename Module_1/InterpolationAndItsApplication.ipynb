{
 "cells": [
  {
   "cell_type": "code",
   "execution_count": 13,
   "id": "5d832cec",
   "metadata": {},
   "outputs": [
    {
     "name": "stdout",
     "output_type": "stream",
     "text": [
      "[6, 15, 24]\n",
      "[14, 4, 10]\n"
     ]
    }
   ],
   "source": [
    "# Cho trước một danh sách các danh sách\n",
    "# số tự nhiên được lưu trữ trong danh sách (List) 2 chiều gồm có m dòng và n cột. Phát triển chương\n",
    "# trình tính tổng cho mỗi dòng của danh sách\n",
    "def compute_sum(data):\n",
    "    result=[]\n",
    "    for i in range(len(data)):\n",
    "        sum_column= sum(data[i])\n",
    "        result.append(sum_column)\n",
    "    return result\n",
    "data = [[1 , 2, 3],\n",
    "        [4, 5, 6],\n",
    "        [7, 8, 9]]\n",
    "\n",
    "print(compute_sum(data))\n",
    "assert compute_sum ( data ) == [6, 15, 24]\n",
    "data = [[1 , 2],\n",
    "        [3, 4],\n",
    "        [5, 6]]\n",
    "assert compute_sum ( data ) == [3, 7, 11]\n",
    "data = [[6 , 8],\n",
    "        [3, 1],\n",
    "        [7, 3]]\n",
    "print ( compute_sum ( data ))"
   ]
  },
  {
   "cell_type": "code",
   "execution_count": 24,
   "id": "aa72ed4a",
   "metadata": {},
   "outputs": [
    {
     "name": "stdout",
     "output_type": "stream",
     "text": [
      "[[1, 4, 7], [2, 5, 8], [3, 6, 9]]\n",
      "[[7, 3], [2, 5]]\n"
     ]
    }
   ],
   "source": [
    "# Cho trước một danh sách các danh sách số tự nhiên được lưu trữ trong danh sách (List) 2 chiều\n",
    "# gồm có n dòng và n cột (ma trận vuông). Phát triển chương trình hoán vị dữ liệu(thay đổi dòng thành\n",
    "# cột và ngược lại)\n",
    "def transpose (data ):\n",
    "    row = len(data)\n",
    "    colomn = len(data[0])\n",
    "    result = [[0]*colomn for _ in range(row)]\n",
    "    for i in range(row):\n",
    "        for j in range(colomn):\n",
    "            result[i][j]= data[j][i]\n",
    "    return result\n",
    "data = [[1 , 2, 3],\n",
    "        [4, 5, 6],\n",
    "        [7, 8, 9]]\n",
    "print(transpose(data))\n",
    "data = [[7 , 2],\n",
    "        [3, 5]]\n",
    "print(transpose(data ))"
   ]
  },
  {
   "cell_type": "code",
   "execution_count": 30,
   "id": "b3fca103",
   "metadata": {},
   "outputs": [
    {
     "name": "stdout",
     "output_type": "stream",
     "text": [
      "[1, 1, 1, 2, 2, 2, 3, 3, 3]\n",
      "[5, 5, 5, 7, 7, 7]\n"
     ]
    }
   ],
   "source": [
    "# (kỹ thuật nội suy liền kề cho dữ liệu 1 chiều (1D)): Cho trước một danh sách các số tự\n",
    "# nhiên có chiều dài là n và một tham số k. Phát triển chương trình nội suy danh sách đầu vào thành\n",
    "# danh sách mới có độ dài là n*k sử dụng kỹ thuật nội suy liền kề (nearest neighbor interpolation)\n",
    "def nearest_neighbor_interpolation(data,k):\n",
    "    new_size = len(data)*k\n",
    "    result = [[0] for _ in range(new_size)]\n",
    "    for i in range(len(result)):\n",
    "        j= i//k\n",
    "        result[i]= data[j]\n",
    "    return result\n",
    "\n",
    "data = [1, 2, 3]\n",
    "print(nearest_neighbor_interpolation(data,3))\n",
    "data = [5, 7]\n",
    "k = 3\n",
    "print ( nearest_neighbor_interpolation(data , k))"
   ]
  },
  {
   "cell_type": "code",
   "execution_count": 51,
   "id": "550f04e7",
   "metadata": {},
   "outputs": [
    {
     "name": "stdout",
     "output_type": "stream",
     "text": [
      "row = 3\n",
      "column= 12\n",
      "0\n",
      "0\n",
      "0\n",
      "1\n",
      "1\n",
      "1\n",
      "2\n",
      "2\n",
      "2\n",
      "3\n",
      "3\n",
      "3\n",
      "[[1, 1, 1, 2, 2, 2, 3, 3, 3, 4, 4, 4], [1, 1, 1, 2, 2, 2, 3, 3, 3, 4, 4, 4], [1, 1, 1, 2, 2, 2, 3, 3, 3, 4, 4, 4]]\n"
     ]
    }
   ],
   "source": [
    "# Cho trước một danh sách các số tự\n",
    "# nhiên (m dòng và n cột) và tham số k. Phát triển chương trình nội suy danh sách đầu vào thành danh\n",
    "# sách mới (m*k dòng và n*k cột) sử dụng kỹ thuật nội suy liền kề (nearest neighbor interpolation)\n",
    "def nearest_neighbor_interpolation_2D(data,k):\n",
    "    row = len(data)*k\n",
    "    print(f'row = {row}')\n",
    "    column = len(data[0])*k\n",
    "    print(f'column= {column}')\n",
    "    result_1 = [[0]*column for _ in range(row)]\n",
    "#     nội suy theo chiều ngang\n",
    "    for i in range(len(data)):\n",
    "        for j in range(column):\n",
    "            new_column = j//k\n",
    "            print(new_column)\n",
    "            result_1[i][j] = data[i][new_column]\n",
    "    final_result = [[0]*column for _ in range(row)]\n",
    "# # #  Nội suy theo chiều dọc            \n",
    "    for i in range(column):\n",
    "        for j in range(row):\n",
    "            new_row = j//k\n",
    "#             print(new_row)\n",
    "            final_result[j][i] = result_1[new_row][i]\n",
    "    return final_result\n",
    "data = [[1 , 2, 3, 4]]\n",
    "print ( nearest_neighbor_interpolation_2D(data,3))"
   ]
  },
  {
   "cell_type": "code",
   "execution_count": 30,
   "id": "6945e1f8",
   "metadata": {},
   "outputs": [
    {
     "name": "stdout",
     "output_type": "stream",
     "text": [
      "[1, [0], [0], [0], [0], [0], [0], [0], [0]]\n",
      "p2=(1, 4)\n",
      "0.3333333333333333\n",
      "[1, 2.0, [0], [0], [0], [0], [0], [0], [0]]\n",
      "p2=(1, 4)\n",
      "0.6666666666666666\n",
      "[1, 2.0, 3.0, [0], [0], [0], [0], [0], [0]]\n",
      "[1, 2.0, 3.0, 4, [0], [0], [0], [0], [0]]\n",
      "p2=(2, 7)\n",
      "1.3333333333333333\n",
      "[1, 2.0, 3.0, 4, 5.0, [0], [0], [0], [0]]\n",
      "p2=(2, 7)\n",
      "1.6666666666666667\n",
      "[1, 2.0, 3.0, 4, 5.0, 6.0, [0], [0], [0]]\n",
      "[1, 2.0, 3.0, 4, 5.0, 6.0, 7, [0], [0]]\n",
      "[1, 2.0, 3.0, 4, 5.0, 6.0, 7, 7, [0]]\n",
      "[1, 2.0, 3.0, 4, 5.0, 6.0, 7, 7, 7]\n",
      "[7, [0], [0], [0], [0], [0]]\n",
      "p2=(1, 10)\n",
      "0.3333333333333333\n",
      "[7, 8.0, [0], [0], [0], [0]]\n",
      "p2=(1, 10)\n",
      "0.6666666666666666\n",
      "[7, 8.0, 9.0, [0], [0], [0]]\n",
      "[7, 8.0, 9.0, 10, [0], [0]]\n",
      "[7, 8.0, 9.0, 10, 10, [0]]\n",
      "[7, 8.0, 9.0, 10, 10, 10]\n",
      "[7, 8.0, 9.0, 10, 10, 10]\n"
     ]
    }
   ],
   "source": [
    "# (Kỹ thuật nội suy linear cho dữ liệu 1 chiều (1D)): Cho trước danh sách số thực có chiều\n",
    "# dài n và tham số k. Phát triển chương trình nội suy danh sách đầu vào thành danh sách mới có độ dài\n",
    "# là n*k sử dụng kỹ thuật nội suy linear\n",
    "import math\n",
    "def linear_interpolation(p1 , p2 , x):\n",
    "    x1 , y1 = p1\n",
    "    x2 , y2 = p2\n",
    "    if x1 != x2:\n",
    "        y = ((x2 -x)/(x2 -x1))*y1 + ((x-x1)/(x2 -x1))*y2\n",
    "    else :\n",
    "        y = y1\n",
    "    return y\n",
    "# print(linear_interpolation([0,2],[2,-5],1))\n",
    "\n",
    "def noi_suy_linear1D(data,k):\n",
    "    new_size = k*len(data)\n",
    "    result_1 = [[0] for _ in range(new_size)]\n",
    "    for i in range(new_size):\n",
    "        if i%k==0 or (i//k+1) >= len(data):\n",
    "            result_1[i] = data[i//k]\n",
    "            print(result_1)\n",
    "        else:\n",
    "            x1= i//k\n",
    "            p1 = (x1,data[x1])\n",
    "            \n",
    "            x2= i//k +1\n",
    "            p2= (x2,data[x2])\n",
    "            print(f'p2={p2}')\n",
    "            x= i/k\n",
    "            print(x)\n",
    "            result_1[i]= linear_interpolation(p1,p2,x)\n",
    "            print(result_1)\n",
    "    return result_1\n",
    "#     return result\n",
    "# data = [1, 2, 3]\n",
    "# noi_suy_linear1D(data,2)\n",
    "data = [1,4,7]\n",
    "noi_suy_linear1D(data,3)\n",
    "data = [7, 10]\n",
    "k = 3\n",
    "print(noi_suy_linear1D(data,k))"
   ]
  },
  {
   "cell_type": "code",
   "execution_count": 31,
   "id": "12910d59",
   "metadata": {},
   "outputs": [
    {
     "name": "stdout",
     "output_type": "stream",
     "text": [
      "Collecting opencv-python\n",
      "  Downloading opencv_python-4.7.0.72-cp37-abi3-win_amd64.whl (38.2 MB)\n",
      "     ---------------------------------------- 38.2/38.2 MB 6.7 MB/s eta 0:00:00\n",
      "Requirement already satisfied: numpy>=1.19.3 in c:\\users\\admin\\anaconda3\\lib\\site-packages (from opencv-python) (1.23.5)\n",
      "Installing collected packages: opencv-python\n",
      "Successfully installed opencv-python-4.7.0.72\n"
     ]
    }
   ],
   "source": [
    "!pip install opencv-python"
   ]
  },
  {
   "cell_type": "code",
   "execution_count": 40,
   "id": "d50f036d",
   "metadata": {},
   "outputs": [],
   "source": [
    "import cv2\n",
    "import numpy as np\n",
    "import math"
   ]
  },
  {
   "cell_type": "code",
   "execution_count": 55,
   "id": "449e7ae3",
   "metadata": {},
   "outputs": [
    {
     "name": "stdout",
     "output_type": "stream",
     "text": [
      "400\n",
      "400\n",
      "1200\n",
      "1200\n"
     ]
    },
    {
     "data": {
      "text/plain": [
       "True"
      ]
     },
     "execution_count": 55,
     "metadata": {},
     "output_type": "execute_result"
    }
   ],
   "source": [
    "# Cho trước ảnh đầu vào \n",
    "# resize ảnh\n",
    "\n",
    "\n",
    "def resize_nni (source , source_h , source_w , target_h , target_w ):\n",
    "    new_data = [[0]* target_w for _ in range ( target_h )]\n",
    "# Calculate horizontal and vertical scaling factor\n",
    "    w_scale_factor = target_w/source_w\n",
    "    h_scale_factor = target_h/source_h\n",
    "    \n",
    "    for i in range(source_h):\n",
    "        for j in range(target_w):\n",
    "            new_w = int(j//w_scale_factor)\n",
    "#             print(new_w)\n",
    "            new_data[i][j] = source[i][new_w]\n",
    "    final_result = [[0]* target_w for _ in range ( target_h )]\n",
    "# # #  Nội suy theo chiều dọc            \n",
    "    for i in range(target_w):\n",
    "        for j in range(target_h):\n",
    "            new_h = int(j//h_scale_factor)\n",
    "            final_result[j][i] = new_data[new_h][i]\n",
    "    print(len(final_result))\n",
    "    print(len(final_result[0]))\n",
    "    return final_result\n",
    "\n",
    "image = cv2. imread ('tree.jpg', 0).tolist()\n",
    "# print(image)\n",
    "height = len(image)\n",
    "print(height)\n",
    "width = len (image[0])\n",
    "print(width)\n",
    "new_image =resize_nni(image , height , width , height *3, width *3)\n",
    "cv2.imwrite ('tree_2x.jpg', np. array ( new_image ))"
   ]
  },
  {
   "cell_type": "code",
   "execution_count": null,
   "id": "4b6d9094",
   "metadata": {},
   "outputs": [],
   "source": []
  }
 ],
 "metadata": {
  "kernelspec": {
   "display_name": "Python 3 (ipykernel)",
   "language": "python",
   "name": "python3"
  },
  "language_info": {
   "codemirror_mode": {
    "name": "ipython",
    "version": 3
   },
   "file_extension": ".py",
   "mimetype": "text/x-python",
   "name": "python",
   "nbconvert_exporter": "python",
   "pygments_lexer": "ipython3",
   "version": "3.10.9"
  }
 },
 "nbformat": 4,
 "nbformat_minor": 5
}
