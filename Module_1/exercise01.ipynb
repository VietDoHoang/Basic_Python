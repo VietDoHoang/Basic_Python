{
 "cells": [
  {
   "cell_type": "code",
   "execution_count": 19,
   "id": "72560f50",
   "metadata": {},
   "outputs": [],
   "source": [
    "import math\n",
    "import random\n",
    "from math import factorial"
   ]
  },
  {
   "cell_type": "code",
   "execution_count": 20,
   "id": "c9a0a515",
   "metadata": {},
   "outputs": [
    {
     "name": "stdout",
     "output_type": "stream",
     "text": [
      "tp must be int\n",
      "tp and fp and fn must be greater than zero\n",
      "0.28571428571428575\n",
      "0.31\n"
     ]
    }
   ],
   "source": [
    "def caculator_F1_Score(tp,fp,fn):\n",
    "    if type(tp) != type(1) :\n",
    "        return \"tp must be int\"\n",
    "    elif type(fp) != type(1) :\n",
    "        return \"fp must be int\"\n",
    "    elif type(fn) != type(1) :\n",
    "        return \"fp must be int\"\n",
    "    elif tp <=0 or fp <=0  or fn<=0:\n",
    "        return \"tp and fp and fn must be greater than zero\"\n",
    "    else:\n",
    "        recall = tp/(tp+fn)\n",
    "        precious =tp/(tp+fp)\n",
    "    \n",
    "    return 2*(precious*recall)/(precious+recall)\n",
    "print(caculator_F1_Score(1.2,2,3))\n",
    "print(caculator_F1_Score(-5,2,3))\n",
    "print(caculator_F1_Score(1,2,3))\n",
    "print(round (caculator_F1_Score(tp =2, fp =4, fn =5) , 2))"
   ]
  },
  {
   "cell_type": "code",
   "execution_count": 27,
   "id": "732e92e1",
   "metadata": {},
   "outputs": [
    {
     "name": "stdout",
     "output_type": "stream",
     "text": [
      "Output: print ’sigmoid: f(1.5) = 0.8175744761936437\n",
      "Output: print ’sigmoid: f(3) = 0.9525741268224331\n",
      "Output: print elu: f(0.01) = 0.01\n"
     ]
    }
   ],
   "source": [
    "def is_number(x):\n",
    "    if type(x) == type(\"abc\") :\n",
    "        return False\n",
    "    else :\n",
    "        return True\n",
    "def activation_Function(x,activation_function):\n",
    "    if is_number(x)== False:\n",
    "        print(\"x must be a number\")\n",
    "        return \n",
    "    if activation_function == \"binary\" or activation_function == \"Binary\" :\n",
    "        if(x>=0):\n",
    "            print(\"Output: print ’binary: f(\"+str(x)+\") = 1\") \n",
    "            return\n",
    "        else :\n",
    "            print(\"Output: print ’binary: f(\"+str(x)+\") = 0\") \n",
    "            return\n",
    "    elif activation_function == \"sigmoid\" or activation_function == \"Sigmoid\" :\n",
    "        f= 1/(1+math.pow(math.e,-x))\n",
    "\n",
    "        print(\"Output: print ’sigmoid: f(\"+str(x)+\") = \"+str(f))\n",
    "        return\n",
    "    elif activation_function == \"elu\" or activation_function == \"Elu\" :\n",
    "        if(x<0) :\n",
    "            f= math.pow(e,x) -1 \n",
    "            print(\"Output: print elu: f(\"+str(x)+\") = \"+str(f))\n",
    "            return\n",
    "        elif x>=0 :\n",
    "            f=x\n",
    "            print(\"Output: print elu: f(\"+str(x)+\") = \"+str(f))\n",
    "            return\n",
    "    else :\n",
    "        print(str(activation_function)+\" is not supported\")\n",
    "\n",
    "activation_Function(1.5,'sigmoid')\n",
    "activation_Function(3,\"sigmoid\")\n",
    "activation_Function(0.01,\"elu\")\n",
    "\n",
    "\n"
   ]
  },
  {
   "cell_type": "code",
   "execution_count": 2,
   "id": "f098c7c1",
   "metadata": {},
   "outputs": [
    {
     "name": "stdout",
     "output_type": "stream",
     "text": [
      "False\n"
     ]
    }
   ],
   "source": [
    "def is_number(x):\n",
    "    if type(x) == type(2) :\n",
    "        return True\n",
    "    else :\n",
    "        return False\n",
    "print(is_number(\"asd\"))"
   ]
  },
  {
   "cell_type": "code",
   "execution_count": 7,
   "id": "afdb675e",
   "metadata": {},
   "outputs": [
    {
     "name": "stdout",
     "output_type": "stream",
     "text": [
      "Input number of samples ( integer number ) which are generated 5\n",
      "loss name: MAE, predict: 9.08917976841018, target: 7.307510973036534, loss: 1.7816687953736459  \n",
      "loss name: MAE, predict: 2.54955409220047, target: 2.2311654417822178, loss: 2.100057445791898  \n",
      "loss name: MAE, predict: 3.306025048796195, target: 4.592587995204665, loss: 3.3866203922003684  \n",
      "loss name: MAE, predict: 8.893567525340663, target: 5.790147032258266, loss: 6.490040885282765  \n",
      "loss name: MAE, predict: 9.614367090196316, target: 8.05853356990767, loss: 8.04587440557141  \n",
      "final MAE: 1.609174881114282\n"
     ]
    }
   ],
   "source": [
    "# lựa chọn regression loss function để tính loss: cua ham MAE, MSE\n",
    "def regression_loss_function(num_samples,loss_name):\n",
    "    result =0\n",
    "    if(is_number(num_samples) == False):\n",
    "        print(\"number of samples must be an integer number\")\n",
    "        return\n",
    "    if(loss_name == \"MAE\"):\n",
    "        for i in range(num_samples):\n",
    "            predict = random.uniform(0.0,10.0)\n",
    "            target = random.uniform(0.0,10.0)\n",
    "            result += abs(target-predict)\n",
    "            print(f\"loss name: {loss_name}, predict: {predict}, target: {target}, loss: {result}  \")\n",
    "    elif(loss_name==\"MSE\"):\n",
    "        for i in range(num_samples):\n",
    "            predict = random.uniform(0.0,10.0)\n",
    "            target = random.uniform(0.0,10.0)\n",
    "            result += math.sqrt(target-predict)\n",
    "            print(f\"loss name: {loss_name}, predict: {predict}, target: {target}, loss: {result}  \")\n",
    "    result = result/num_samples\n",
    "    print(f\"final {loss_name}: {result}\")\n",
    "            \n",
    "a = int(input('Input number of samples ( integer number ) which are generated '))            \n",
    "regression_loss_function(a,\"MAE\")"
   ]
  },
  {
   "cell_type": "code",
   "execution_count": 9,
   "id": "3c5eb539",
   "metadata": {},
   "outputs": [
    {
     "name": "stdout",
     "output_type": "stream",
     "text": [
      "1 \n",
      "1 1 \n",
      "1 2 1 \n",
      "1 3 3 1 \n",
      "1 4 6 4 1 \n",
      "5\n",
      "0 1 1 2 3 "
     ]
    }
   ],
   "source": [
    "def pascal_triangle(number_level):\n",
    "    if(is_number(number_level) == False):\n",
    "        print(\"number of samples must be an integer number\")\n",
    "        return\n",
    "    for i in range(number_level):\n",
    "#     for j in range(n-i+1):\n",
    " \n",
    "#         # for left spacing\n",
    "#         print(end=\" \")\n",
    " \n",
    "        for j in range(i+1):\n",
    " \n",
    "            # nCr = n!/((n-r)!*r!)\n",
    "            print(factorial(i)//(factorial(j)*factorial(i-j)), end=\" \")\n",
    " \n",
    "        # for new line\n",
    "        print()\n",
    "       \n",
    "pascal_triangle(5)\n",
    "def fibonacci(n):\n",
    "    f0 = 0;\n",
    "    f1 = 1;\n",
    "    fn = 1;\n",
    " \n",
    "    if (n < 0):\n",
    "        return -1;\n",
    "    elif (n == 0 or n == 1):\n",
    "        return n;\n",
    "    else:\n",
    "        for i in range(2, n):\n",
    "            f0 = f1;\n",
    "            f1 = fn;\n",
    "            fn = f0 + f1;\n",
    "        return fn;\n",
    "a = int(input())\n",
    "for i in range(0, a):\n",
    "    print(fibonacci(i),end=\" \")"
   ]
  },
  {
   "cell_type": "code",
   "execution_count": 12,
   "id": "1139e5a5",
   "metadata": {},
   "outputs": [
    {
     "name": "stdout",
     "output_type": "stream",
     "text": [
      "123\n",
      "12\n"
     ]
    }
   ],
   "source": [
    "a= 123\n",
    "print(a.numerator)\n",
    "print(123//10)"
   ]
  },
  {
   "cell_type": "code",
   "execution_count": 14,
   "id": "16bcfb8b",
   "metadata": {},
   "outputs": [
    {
     "name": "stdout",
     "output_type": "stream",
     "text": [
      "321\n"
     ]
    }
   ],
   "source": [
    "def reverse_number(n):\n",
    "    soDaoNguoc=0\n",
    "    while n > 0:\n",
    "            chuSoCuoi = n % 10\n",
    "            soDaoNguoc = soDaoNguoc * 10 + chuSoCuoi\n",
    "            n = n // 10\n",
    "    print(soDaoNguoc)\n",
    "reverse_number(1230)"
   ]
  },
  {
   "cell_type": "code",
   "execution_count": 16,
   "id": "15defd36",
   "metadata": {},
   "outputs": [
    {
     "ename": "SyntaxError",
     "evalue": "invalid character '’' (U+2019) (68900149.py, line 4)",
     "output_type": "error",
     "traceback": [
      "\u001b[1;36m  Cell \u001b[1;32mIn[16], line 4\u001b[1;36m\u001b[0m\n\u001b[1;33m    print (’var1 = ’, var1 )\u001b[0m\n\u001b[1;37m           ^\u001b[0m\n\u001b[1;31mSyntaxError\u001b[0m\u001b[1;31m:\u001b[0m invalid character '’' (U+2019)\n"
     ]
    }
   ],
   "source": [
    "var1 =  'This is var1'\n",
    "var2 = 3\n",
    "var3 = 15.5\n",
    "print (’var1 = ’, var1 )\n",
    "print (f’var1 ={ var1 }, var2 ={ var2 }, var3 ={ var3 }’)"
   ]
  },
  {
   "cell_type": "code",
   "execution_count": 30,
   "id": "e48e0310",
   "metadata": {},
   "outputs": [
    {
     "name": "stdout",
     "output_type": "stream",
     "text": [
      "0 1 1 2 3 5 8 13 "
     ]
    }
   ],
   "source": [
    "def test2 ( length ):\n",
    "    count = 0\n",
    "    n1 , n2 = 0, 1\n",
    "    while count < length :\n",
    "        print (n1 , end=\" \")\n",
    "        nth = n1 + n2\n",
    "        n1 = n2\n",
    "        n2 = nth\n",
    "        count += 1\n",
    "test2 ( length =8)"
   ]
  },
  {
   "cell_type": "code",
   "execution_count": null,
   "id": "f3f82746",
   "metadata": {},
   "outputs": [],
   "source": []
  }
 ],
 "metadata": {
  "kernelspec": {
   "display_name": "Python 3 (ipykernel)",
   "language": "python",
   "name": "python3"
  },
  "language_info": {
   "codemirror_mode": {
    "name": "ipython",
    "version": 3
   },
   "file_extension": ".py",
   "mimetype": "text/x-python",
   "name": "python",
   "nbconvert_exporter": "python",
   "pygments_lexer": "ipython3",
   "version": "3.10.9"
  }
 },
 "nbformat": 4,
 "nbformat_minor": 5
}
